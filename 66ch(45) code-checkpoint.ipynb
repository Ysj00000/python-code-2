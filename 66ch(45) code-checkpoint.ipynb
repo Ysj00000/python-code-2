{
 "cells": [
  {
   "cell_type": "markdown",
   "id": "57de6d11-d3de-4072-b4d3-9db12dda6830",
   "metadata": {},
   "source": [
    "# 45"
   ]
  },
  {
   "cell_type": "code",
   "execution_count": 1,
   "id": "20a177bd-7b61-41ee-9cfe-2e3b844b955a",
   "metadata": {},
   "outputs": [
    {
     "name": "stdout",
     "output_type": "stream",
     "text": [
      "당신의 주사위는 눈금이 1입니다\n",
      "상대의 주사위는 눈금이 4입니다\n",
      "안타깝군요...패배하셨습니다.\n"
     ]
    }
   ],
   "source": [
    "import random\n",
    "person = random.randint(1,6)\n",
    "computer = random.randint(1,6)\n",
    "print(\"당신의 주사위는 눈금이 {}입니다\".format(person))\n",
    "print(\"상대의 주사위는 눈금이 {}입니다\".format(computer))\n",
    "if computer < person:\n",
    "  print(\"축하합니다 승리하셨습니다!\")\n",
    "elif computer == person:\n",
    "  print(\"비겼습니다.\")\n",
    "else:\n",
    "  print(\"안타깝군요...패배하셨습니다.\")"
   ]
  },
  {
   "cell_type": "code",
   "execution_count": null,
   "id": "b40a7026-8210-4aeb-a522-5b444fcabe9d",
   "metadata": {},
   "outputs": [],
   "source": [
    "import random"
   ]
  },
  {
   "cell_type": "markdown",
   "id": "41215ec6-e548-479c-a83a-3e043a4906aa",
   "metadata": {},
   "source": [
    ">랜덤 모듈 삽입"
   ]
  },
  {
   "cell_type": "code",
   "execution_count": null,
   "id": "454aaf4e-843a-4445-a8e8-c33f1bda5eed",
   "metadata": {},
   "outputs": [],
   "source": [
    "person = random.randint(1,6)\n",
    "computer = random.randint(1,6)\n",
    "print(\"당신의 주사위는 눈금이 {}입니다\".format(person))\n",
    "print(\"상대의 주사위는 눈금이 {}입니다\".format(computer))"
   ]
  },
  {
   "cell_type": "markdown",
   "id": "530f0a6d-4fa4-4cd8-ba57-600c218d08e0",
   "metadata": {},
   "source": [
    ">>나와 상대의 주사위 1~6중 랜덤으로 숫자하나 뽑고 출력하기"
   ]
  },
  {
   "cell_type": "code",
   "execution_count": null,
   "id": "931da981-d73f-47dd-b3ae-9a451c376627",
   "metadata": {},
   "outputs": [],
   "source": [
    "if computer < person:\n",
    "  print(\"축하합니다 승리하셨습니다!\")\n",
    "elif computer == person:\n",
    "  print(\"비겼습니다.\")\n",
    "else:\n",
    "  print(\"안타깝군요...패배하셨습니다.\")"
   ]
  },
  {
   "cell_type": "markdown",
   "id": "a722ecca-e3b7-4129-937d-5c5e527a8ba7",
   "metadata": {},
   "source": [
    "*내 숫자가 상대의 숫자보다 클 때에 승리하였다는 문구 출력  \n",
    "*내 숫자가 상대의 숫자보다 작을 때에 패배하였다는 문구 출력  \n",
    "*내 숫자와 상대의 숫자가 같을 때에 비겼다는 문구 출력"
   ]
  }
 ],
 "metadata": {
  "kernelspec": {
   "display_name": "Python 3 (ipykernel)",
   "language": "python",
   "name": "python3"
  },
  "language_info": {
   "codemirror_mode": {
    "name": "ipython",
    "version": 3
   },
   "file_extension": ".py",
   "mimetype": "text/x-python",
   "name": "python",
   "nbconvert_exporter": "python",
   "pygments_lexer": "ipython3",
   "version": "3.11.7"
  }
 },
 "nbformat": 4,
 "nbformat_minor": 5
}
