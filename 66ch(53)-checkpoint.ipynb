{
 "cells": [
  {
   "cell_type": "markdown",
   "id": "a02f0d26-cc9b-438f-9254-0af9ee01f0aa",
   "metadata": {},
   "source": [
    "# 53"
   ]
  },
  {
   "cell_type": "code",
   "execution_count": 1,
   "id": "1d769cf9-53aa-40e9-993e-c4ca8ffb4e73",
   "metadata": {},
   "outputs": [
    {
     "name": "stdin",
     "output_type": "stream",
     "text": [
      " 12\n"
     ]
    },
    {
     "name": "stdout",
     "output_type": "stream",
     "text": [
      "[2, 3]\n"
     ]
    }
   ],
   "source": [
    "list_ = []\n",
    "n = int(input(\"\"))\n",
    "def is_prime(num):\n",
    "    if num < 2:\n",
    "        return False\n",
    "    for i in range(2, int(num**0.5) + 1):\n",
    "        if num % i == 0:\n",
    "            return False\n",
    "    return True\n",
    "\n",
    "for i in range(2, n):\n",
    "    if n % i == 0:\n",
    "        list_.append(i)\n",
    "\n",
    "def solution(n):\n",
    "    primes = list_[:]  # 원본 리스트 복사\n",
    "    for j in list_:\n",
    "        if is_prime(j) == False:\n",
    "            primes.remove(j)\n",
    "    return primes\n",
    "\n",
    "print(solution(n))"
   ]
  },
  {
   "cell_type": "code",
   "execution_count": null,
   "id": "a72b0f24-9021-4865-990b-b4c91dc4d937",
   "metadata": {},
   "outputs": [],
   "source": [
    "list_ = []\n",
    "n = int(input(\"\"))"
   ]
  },
  {
   "cell_type": "markdown",
   "id": "d48c9ec7-49a5-4551-bf93-8b5661241149",
   "metadata": {},
   "source": [
    "*빈 리스트 생성  \n",
    "*입력값 n 생성"
   ]
  },
  {
   "cell_type": "code",
   "execution_count": null,
   "id": "b744dfcb-5433-4103-b82a-7633906c5530",
   "metadata": {},
   "outputs": [],
   "source": [
    "def is_prime(num):\n",
    "    if num < 2:\n",
    "        return False\n",
    "    for i in range(2, int(num**0.5) + 1):\n",
    "        if num % i == 0:\n",
    "            return False\n",
    "    return True"
   ]
  },
  {
   "cell_type": "markdown",
   "id": "4b368fb4-dc47-46dc-a83f-85a00ec76941",
   "metadata": {},
   "source": [
    ">소수인지 판단하는 함수 생성"
   ]
  },
  {
   "cell_type": "code",
   "execution_count": null,
   "id": "6b3f60cd-dc78-4f2d-8715-638112bf4640",
   "metadata": {},
   "outputs": [],
   "source": [
    "for i in range(2, n):\n",
    "    if n % i == 0:\n",
    "        list_.append(i)"
   ]
  },
  {
   "cell_type": "markdown",
   "id": "bde2127b-af79-47a6-bc2c-cd5757bf7b03",
   "metadata": {},
   "source": [
    ">2이상이고 n보다 작은 수 중 n의 약수 리스트에 추가"
   ]
  },
  {
   "cell_type": "code",
   "execution_count": null,
   "id": "941f1474-c5b9-46e7-9af1-ee687cc9c73d",
   "metadata": {},
   "outputs": [],
   "source": [
    "def solution(n):\n",
    "    primes = list_[:]  # 원본 리스트 복사\n",
    "    for j in list_:\n",
    "        if is_prime(j) == False:\n",
    "            primes.remove(j)\n",
    "    return primes"
   ]
  },
  {
   "cell_type": "markdown",
   "id": "cfb214b6-dbf9-4da2-bfa6-83156d7a92bc",
   "metadata": {},
   "source": [
    ">리스트에 추가한 수들 중 소수인 수를 제외하고 모두 삭제"
   ]
  }
 ],
 "metadata": {
  "kernelspec": {
   "display_name": "Python 3 (ipykernel)",
   "language": "python",
   "name": "python3"
  },
  "language_info": {
   "codemirror_mode": {
    "name": "ipython",
    "version": 3
   },
   "file_extension": ".py",
   "mimetype": "text/x-python",
   "name": "python",
   "nbconvert_exporter": "python",
   "pygments_lexer": "ipython3",
   "version": "3.11.7"
  }
 },
 "nbformat": 4,
 "nbformat_minor": 5
}
