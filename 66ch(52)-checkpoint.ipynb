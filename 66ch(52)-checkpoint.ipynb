{
 "cells": [
  {
   "cell_type": "markdown",
   "id": "f99aa910-7c9c-429a-8eb2-7636069ca874",
   "metadata": {},
   "source": [
    "# 52"
   ]
  },
  {
   "cell_type": "code",
   "execution_count": 6,
   "id": "4f397e01-0cd6-43a5-8f06-b8e6e0786066",
   "metadata": {},
   "outputs": [
    {
     "data": {
      "text/plain": [
       "'윤서준'"
      ]
     },
     "execution_count": 6,
     "metadata": {},
     "output_type": "execute_result"
    }
   ],
   "source": [
    "class Person:\n",
    "    def __init__(self, name, mobile, office, email):\n",
    "        self.name = name\n",
    "        self.mobile = mobile\n",
    "        self.office = office\n",
    "        self.email = email\n",
    "\n",
    "    def __str__(self):\n",
    "        return f\"이름: {self.name}, 핸드폰: {self.mobile}, 직장: {self.office}, 이메일: {self.email}\"\n",
    "\n",
    "    def SetName(self, name):\n",
    "        self.name = name\n",
    "    def GetName(self):\n",
    "        return self.name\n",
    "\n",
    "    def SetMobile(self, mobile):\n",
    "        self.mobile = mobile\n",
    "    def GetMobile(self):\n",
    "        return self.mobile\n",
    "\n",
    "    def SetOffice(self, office):\n",
    "        self.office = office\n",
    "    def GetOffice(self):\n",
    "        return self.office\n",
    "\n",
    "    def SetEmail(self, email):\n",
    "        self.email = email\n",
    "    def GetEmail(self):\n",
    "        return self.email\n",
    "me = Person(\"윤서준\",\"010-1234-5678\",\"053-321-7654\",\"qwer1234@knu.ac.kr\")\n",
    "me.GetName()"
   ]
  },
  {
   "cell_type": "code",
   "execution_count": null,
   "id": "d57da273-b66e-4236-b26f-6b34227824aa",
   "metadata": {},
   "outputs": [],
   "source": [
    "class Person:"
   ]
  },
  {
   "cell_type": "markdown",
   "id": "e9478b8d-c24d-4345-ac1d-5918fd6e75b0",
   "metadata": {},
   "source": [
    ">Person이라는 클래스 생성"
   ]
  },
  {
   "cell_type": "code",
   "execution_count": null,
   "id": "b7841146-2759-4695-aefb-8c4608f5bbc8",
   "metadata": {},
   "outputs": [],
   "source": [
    "def __init__(self, name, mobile, office, email):\n",
    "        self.name = name\n",
    "        self.mobile = mobile\n",
    "        self.office = office\n",
    "        self.email = email"
   ]
  },
  {
   "cell_type": "markdown",
   "id": "cbfa3345-a3eb-4769-a2bc-fc7a2063e490",
   "metadata": {},
   "source": [
    "*name, mobile, office, email 값을 매개변수로 받아 인스턴스 변수를 초기화하는 함수 생성"
   ]
  },
  {
   "cell_type": "code",
   "execution_count": null,
   "id": "83c12598-059f-48a0-a832-4f609c70f7c4",
   "metadata": {},
   "outputs": [],
   "source": [
    "def __str__(self):\n",
    "        return f\"이름: {self.name}, 핸드폰: {self.mobile}, 직장: {self.office}, 이메일: {self.email}\""
   ]
  },
  {
   "cell_type": "markdown",
   "id": "59df14d5-8b66-42ac-b53a-769ad939024e",
   "metadata": {},
   "source": [
    "*Person의 정보를 문자열로 변환하는 함수 생성"
   ]
  },
  {
   "cell_type": "code",
   "execution_count": null,
   "id": "cc89a222-3b8c-4e65-addd-e5fbac9e274d",
   "metadata": {},
   "outputs": [],
   "source": [
    "def Setname(self, name):\n",
    "    self.name = name\n",
    "def Getname(self):\n",
    "    return self.name\n",
    "\n",
    "def Setmobile(self, mobile):\n",
    "    self.mobile = mobile\n",
    "def Getmobile(self):\n",
    "    return self.mobile\n",
    "\n",
    "def Setoffice(self, office):\n",
    "    self.office = office\n",
    "def Getoffice(self):\n",
    "    return self.office\n",
    "\n",
    "def Setemail(self, email):\n",
    "    self.email = email\n",
    "def Getemail(self):\n",
    "    return self.email"
   ]
  },
  {
   "cell_type": "markdown",
   "id": "9c3fd4b1-ba79-4841-b383-a26eea68fbbc",
   "metadata": {},
   "source": [
    "*각 속성에 대한 setter와 getter 함수 생성"
   ]
  },
  {
   "cell_type": "code",
   "execution_count": null,
   "id": "d4a47d16-6cb9-4139-9a47-1219596ce6df",
   "metadata": {},
   "outputs": [],
   "source": [
    "me = Person(\"윤서준\",\"010-1234-5678\",\"053-321-7654\",\"qwer1234@knu.ac.kr\")\n",
    "me.GetName()"
   ]
  },
  {
   "cell_type": "markdown",
   "id": "25517f8c-f3e2-4ec1-b188-bd19eb4d5b82",
   "metadata": {},
   "source": [
    "*name에는 이름  \n",
    "*mobile에는 전화번호  \n",
    "*office에는 직장 전화번호  \n",
    "*email에는 이메일 주소 입력"
   ]
  }
 ],
 "metadata": {
  "kernelspec": {
   "display_name": "Python 3 (ipykernel)",
   "language": "python",
   "name": "python3"
  },
  "language_info": {
   "codemirror_mode": {
    "name": "ipython",
    "version": 3
   },
   "file_extension": ".py",
   "mimetype": "text/x-python",
   "name": "python",
   "nbconvert_exporter": "python",
   "pygments_lexer": "ipython3",
   "version": "3.11.7"
  }
 },
 "nbformat": 4,
 "nbformat_minor": 5
}
